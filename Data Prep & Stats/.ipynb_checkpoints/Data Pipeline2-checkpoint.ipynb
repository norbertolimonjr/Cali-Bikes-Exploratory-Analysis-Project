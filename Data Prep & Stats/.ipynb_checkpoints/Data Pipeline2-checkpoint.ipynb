{
 "cells": [
  {
   "cell_type": "code",
   "execution_count": 1,
   "id": "ce2018d1",
   "metadata": {},
   "outputs": [],
   "source": [
    "import pandas as pd\n",
    "import random\n",
    "\n",
    "cols='Walk,Bike,Car,Taxi,Bus,Train,Rail,Urban/Rural,Internet Use,PC Use,Phone Use,Tablet Use,Price  of Gas,Travel $ Burden,Walk to Save,Bike to Save,Public Transportation,Workers in Household,Household Income,Drivers in Household,Adults in Household,Household Members,Household Vehicles'.split(sep=',')"
   ]
  },
  {
   "cell_type": "code",
   "execution_count": 4,
   "id": "6bdb842c",
   "metadata": {},
   "outputs": [
    {
     "data": {
      "text/html": [
       "<div>\n",
       "<style scoped>\n",
       "    .dataframe tbody tr th:only-of-type {\n",
       "        vertical-align: middle;\n",
       "    }\n",
       "\n",
       "    .dataframe tbody tr th {\n",
       "        vertical-align: top;\n",
       "    }\n",
       "\n",
       "    .dataframe thead th {\n",
       "        text-align: right;\n",
       "    }\n",
       "</style>\n",
       "<table border=\"1\" class=\"dataframe\">\n",
       "  <thead>\n",
       "    <tr style=\"text-align: right;\">\n",
       "      <th></th>\n",
       "      <th>Walk</th>\n",
       "      <th>Bike</th>\n",
       "      <th>Car</th>\n",
       "      <th>Taxi</th>\n",
       "      <th>Bus</th>\n",
       "      <th>Train</th>\n",
       "      <th>Rail</th>\n",
       "      <th>Urban/Rural</th>\n",
       "      <th>Internet Use</th>\n",
       "      <th>PC Use</th>\n",
       "      <th>...</th>\n",
       "      <th>Travel $ Burden</th>\n",
       "      <th>Walk to Save</th>\n",
       "      <th>Bike to Save</th>\n",
       "      <th>Public Transportation</th>\n",
       "      <th>Workers in Household</th>\n",
       "      <th>Household Income</th>\n",
       "      <th>Drivers in Household</th>\n",
       "      <th>Adults in Household</th>\n",
       "      <th>Household Members</th>\n",
       "      <th>Household Vehicles</th>\n",
       "    </tr>\n",
       "  </thead>\n",
       "  <tbody>\n",
       "    <tr>\n",
       "      <th>0</th>\n",
       "      <td>1</td>\n",
       "      <td>1</td>\n",
       "      <td>5</td>\n",
       "      <td>1</td>\n",
       "      <td>2</td>\n",
       "      <td>1</td>\n",
       "      <td>2</td>\n",
       "      <td>1</td>\n",
       "      <td>5</td>\n",
       "      <td>4</td>\n",
       "      <td>...</td>\n",
       "      <td>4</td>\n",
       "      <td>2</td>\n",
       "      <td>2</td>\n",
       "      <td>2</td>\n",
       "      <td>1</td>\n",
       "      <td>7</td>\n",
       "      <td>3</td>\n",
       "      <td>3</td>\n",
       "      <td>3</td>\n",
       "      <td>5</td>\n",
       "    </tr>\n",
       "    <tr>\n",
       "      <th>1</th>\n",
       "      <td>2</td>\n",
       "      <td>2</td>\n",
       "      <td>5</td>\n",
       "      <td>1</td>\n",
       "      <td>1</td>\n",
       "      <td>1</td>\n",
       "      <td>2</td>\n",
       "      <td>2</td>\n",
       "      <td>5</td>\n",
       "      <td>5</td>\n",
       "      <td>...</td>\n",
       "      <td>4</td>\n",
       "      <td>2</td>\n",
       "      <td>2</td>\n",
       "      <td>1</td>\n",
       "      <td>2</td>\n",
       "      <td>8</td>\n",
       "      <td>2</td>\n",
       "      <td>2</td>\n",
       "      <td>2</td>\n",
       "      <td>4</td>\n",
       "    </tr>\n",
       "    <tr>\n",
       "      <th>2</th>\n",
       "      <td>4</td>\n",
       "      <td>1</td>\n",
       "      <td>5</td>\n",
       "      <td>1</td>\n",
       "      <td>2</td>\n",
       "      <td>2</td>\n",
       "      <td>2</td>\n",
       "      <td>1</td>\n",
       "      <td>5</td>\n",
       "      <td>5</td>\n",
       "      <td>...</td>\n",
       "      <td>5</td>\n",
       "      <td>4</td>\n",
       "      <td>3</td>\n",
       "      <td>1</td>\n",
       "      <td>1</td>\n",
       "      <td>10</td>\n",
       "      <td>1</td>\n",
       "      <td>1</td>\n",
       "      <td>1</td>\n",
       "      <td>2</td>\n",
       "    </tr>\n",
       "    <tr>\n",
       "      <th>3</th>\n",
       "      <td>1</td>\n",
       "      <td>1</td>\n",
       "      <td>5</td>\n",
       "      <td>1</td>\n",
       "      <td>1</td>\n",
       "      <td>1</td>\n",
       "      <td>2</td>\n",
       "      <td>1</td>\n",
       "      <td>5</td>\n",
       "      <td>5</td>\n",
       "      <td>...</td>\n",
       "      <td>3</td>\n",
       "      <td>1</td>\n",
       "      <td>1</td>\n",
       "      <td>1</td>\n",
       "      <td>1</td>\n",
       "      <td>10</td>\n",
       "      <td>2</td>\n",
       "      <td>2</td>\n",
       "      <td>2</td>\n",
       "      <td>2</td>\n",
       "    </tr>\n",
       "    <tr>\n",
       "      <th>4</th>\n",
       "      <td>5</td>\n",
       "      <td>2</td>\n",
       "      <td>5</td>\n",
       "      <td>3</td>\n",
       "      <td>2</td>\n",
       "      <td>2</td>\n",
       "      <td>1</td>\n",
       "      <td>1</td>\n",
       "      <td>5</td>\n",
       "      <td>5</td>\n",
       "      <td>...</td>\n",
       "      <td>1</td>\n",
       "      <td>1</td>\n",
       "      <td>1</td>\n",
       "      <td>1</td>\n",
       "      <td>2</td>\n",
       "      <td>11</td>\n",
       "      <td>2</td>\n",
       "      <td>2</td>\n",
       "      <td>2</td>\n",
       "      <td>2</td>\n",
       "    </tr>\n",
       "  </tbody>\n",
       "</table>\n",
       "<p>5 rows × 23 columns</p>\n",
       "</div>"
      ],
      "text/plain": [
       "   Walk  Bike  Car  Taxi  Bus  Train  Rail  Urban/Rural  Internet Use  PC Use  \\\n",
       "0     1     1    5     1    2      1     2            1             5       4   \n",
       "1     2     2    5     1    1      1     2            2             5       5   \n",
       "2     4     1    5     1    2      2     2            1             5       5   \n",
       "3     1     1    5     1    1      1     2            1             5       5   \n",
       "4     5     2    5     3    2      2     1            1             5       5   \n",
       "\n",
       "   ...  Travel $ Burden  Walk to Save  Bike to Save  Public Transportation  \\\n",
       "0  ...                4             2             2                      2   \n",
       "1  ...                4             2             2                      1   \n",
       "2  ...                5             4             3                      1   \n",
       "3  ...                3             1             1                      1   \n",
       "4  ...                1             1             1                      1   \n",
       "\n",
       "   Workers in Household  Household Income  Drivers in Household  \\\n",
       "0                     1                 7                     3   \n",
       "1                     2                 8                     2   \n",
       "2                     1                10                     1   \n",
       "3                     1                10                     2   \n",
       "4                     2                11                     2   \n",
       "\n",
       "   Adults in Household  Household Members  Household Vehicles  \n",
       "0                    3                  3                   5  \n",
       "1                    2                  2                   4  \n",
       "2                    1                  1                   2  \n",
       "3                    2                  2                   2  \n",
       "4                    2                  2                   2  \n",
       "\n",
       "[5 rows x 23 columns]"
      ]
     },
     "execution_count": 4,
     "metadata": {},
     "output_type": "execute_result"
    }
   ],
   "source": [
    "df = pd.read_excel(io='hhpub Pipeline.xlsx', \n",
    "                   sheet_name='Export Data',\n",
    "                   header=0, \n",
    "                   names=cols, \n",
    "                   usecols='A:W')\n",
    "df.head(5)"
   ]
  },
  {
   "cell_type": "code",
   "execution_count": 17,
   "id": "17c44258",
   "metadata": {},
   "outputs": [],
   "source": [
    "urban_df = df[df['Urban/Rural']==1]\n",
    "rural_df = df[df['Urban/Rural']==2]"
   ]
  },
  {
   "cell_type": "code",
   "execution_count": 18,
   "id": "ae642e33",
   "metadata": {},
   "outputs": [],
   "source": [
    "urban_df.reset_index(drop=True, inplace=True)\n",
    "rural_df.reset_index(drop=True, inplace=True)"
   ]
  },
  {
   "cell_type": "code",
   "execution_count": 19,
   "id": "8c7fc94c",
   "metadata": {},
   "outputs": [
    {
     "data": {
      "text/plain": [
       "84143"
      ]
     },
     "execution_count": 19,
     "metadata": {},
     "output_type": "execute_result"
    }
   ],
   "source": [
    "len(urban_df)"
   ]
  },
  {
   "cell_type": "code",
   "execution_count": 20,
   "id": "e7b6f793",
   "metadata": {},
   "outputs": [
    {
     "data": {
      "text/plain": [
       "23744"
      ]
     },
     "execution_count": 20,
     "metadata": {},
     "output_type": "execute_result"
    }
   ],
   "source": [
    "len(rural_df)"
   ]
  },
  {
   "cell_type": "code",
   "execution_count": 21,
   "id": "6b2cc67d",
   "metadata": {},
   "outputs": [],
   "source": [
    "# Since there is about a 4 to 1 ratio of Urban households compared to Rural households in the data,\n",
    "# we can try to take a representative sample of urban_df. \n",
    "\n",
    "# We can do this by extracting the number of records equal to the total count of rural records (So they both have 29231)\n",
    "index_list = list(urban_df.index)\n",
    "\n",
    "chosen_ones = random.sample(index_list, len(rural_df)-1)\n",
    "urban_df = urban_df.iloc[chosen_ones]"
   ]
  },
  {
   "cell_type": "code",
   "execution_count": 22,
   "id": "c983b93b",
   "metadata": {},
   "outputs": [],
   "source": [
    "urban_df.reset_index(drop=True, inplace=True)"
   ]
  },
  {
   "cell_type": "code",
   "execution_count": 24,
   "id": "9d028337",
   "metadata": {},
   "outputs": [],
   "source": [
    "with pd.ExcelWriter(\"samples.xlsx\") as writer:  \n",
    "    rural_df.to_excel(writer, sheet_name='Rural Sample')\n",
    "    urban_df.to_excel(writer, sheet_name='Urban Sample')"
   ]
  },
  {
   "cell_type": "code",
   "execution_count": null,
   "id": "58d1e971",
   "metadata": {},
   "outputs": [],
   "source": []
  }
 ],
 "metadata": {
  "kernelspec": {
   "display_name": "Python 3",
   "language": "python",
   "name": "python3"
  },
  "language_info": {
   "codemirror_mode": {
    "name": "ipython",
    "version": 3
   },
   "file_extension": ".py",
   "mimetype": "text/x-python",
   "name": "python",
   "nbconvert_exporter": "python",
   "pygments_lexer": "ipython3",
   "version": "3.8.8"
  }
 },
 "nbformat": 4,
 "nbformat_minor": 5
}
